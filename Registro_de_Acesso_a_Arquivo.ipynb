{
  "nbformat": 4,
  "nbformat_minor": 0,
  "metadata": {
    "colab": {
      "provenance": [],
      "authorship_tag": "ABX9TyNKKjGhFU7pi/CrJCxSH7MI",
      "include_colab_link": true
    },
    "kernelspec": {
      "name": "python3",
      "display_name": "Python 3"
    },
    "language_info": {
      "name": "python"
    }
  },
  "cells": [
    {
      "cell_type": "markdown",
      "metadata": {
        "id": "view-in-github",
        "colab_type": "text"
      },
      "source": [
        "<a href=\"https://colab.research.google.com/github/vitoria-fs/Acessando_Registro_arquivo./blob/main/Registro_de_Acesso_a_Arquivo.ipynb\" target=\"_parent\"><img src=\"https://colab.research.google.com/assets/colab-badge.svg\" alt=\"Open In Colab\"/></a>"
      ]
    },
    {
      "cell_type": "markdown",
      "source": [
        "## Roteiro de Práticas 01 – Registro de Acesso a Arquivo"
      ],
      "metadata": {
        "id": "gizhDiTpyFK9"
      }
    },
    {
      "cell_type": "code",
      "execution_count": null,
      "metadata": {
        "id": "-ijuFwEbuqJT",
        "colab": {
          "base_uri": "https://localhost:8080/"
        },
        "outputId": "c244b6db-0f02-4e10-b85f-3558bfd845b4"
      },
      "outputs": [
        {
          "output_type": "stream",
          "name": "stdout",
          "text": [
            "Registro realizado\n"
          ]
        },
        {
          "output_type": "execute_result",
          "data": {
            "text/plain": [
              "<_io.TextIOWrapper name='/content/drive/My Drive/Colab Notebooks/Linguagem de Programação I/Atividade Avaliativa/Teste.txt' mode='r' encoding='utf-8'>"
            ]
          },
          "metadata": {},
          "execution_count": 44
        }
      ],
      "source": [
        "import time\n",
        "\n",
        "def openLog(nomearq, modo = 'r'):\n",
        "    '''abre arquivo nomearq em certo modo e retorna referência ao arquivo aberto; registra o acesso ao arquivo em log.txt'''\n",
        "    arqEntrada = open(nomearq, modo)\n",
        "\n",
        "    # obtém hora atual\n",
        "    now = time.localtime()\n",
        "    nowFormat = time.strftime('%A %b/%d/%y %I:%M %p', now)\n",
        "\n",
        "    # abre arquivo log.txt no modo de acréscimo e acrescenta log\n",
        "    arqSaída = open('log.txt', 'a')\n",
        "    log = '{}: Arquivo {} aberto.\\n'  # formata string\n",
        "    arqSaída.write(log.format(nowFormat, nomearq))\n",
        "    arqSaída.close()\n",
        "\n",
        "    print('Registro realizado')\n",
        "\n",
        "    return arqEntrada\n",
        "\n",
        "    #Para testar\n",
        "\n",
        "openLog('/content/drive/My Drive/Colab Notebooks/Linguagem de Programação I/Atividade Avaliativa/Teste.txt')\n",
        "\n"
      ]
    }
  ]
}